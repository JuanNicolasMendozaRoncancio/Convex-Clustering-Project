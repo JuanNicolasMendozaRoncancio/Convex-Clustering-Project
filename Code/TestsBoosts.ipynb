{
 "cells": [
  {
   "cell_type": "markdown",
   "id": "4c9ab593",
   "metadata": {},
   "source": [
    "# Test notebook for boosting\n",
    "\n",
    "The goal of this notebook is to test the algorithms on ```boosting.py```. We will teste them on four datasets:\n",
    "\n",
    "- Diabetes dataset\n",
    "- Prostate Cancer dataset\n",
    "- California Housing Dataset\n",
    "- Leukemia Dataset\n",
    "\n"
   ]
  },
  {
   "cell_type": "markdown",
   "id": "8b5ad224",
   "metadata": {},
   "source": [
    "## Diabetes Dataset\n",
    "\n",
    "We can import this dataset:"
   ]
  },
  {
   "cell_type": "code",
   "execution_count": 110,
   "id": "aff439af",
   "metadata": {},
   "outputs": [],
   "source": [
    "from sklearn.datasets import load_diabetes\n",
    "import numpy as np\n",
    "from boosting import Boosting\n",
    "from sklearn.linear_model import LinearRegression\n",
    "from sklearn.metrics import mean_squared_error\n",
    "\n",
    "data = load_diabetes().data\n",
    "response = load_diabetes().target"
   ]
  },
  {
   "cell_type": "code",
   "execution_count": 111,
   "id": "6cd4375d",
   "metadata": {},
   "outputs": [
    {
     "data": {
      "text/plain": [
       "((442, 10), (442,))"
      ]
     },
     "execution_count": 111,
     "metadata": {},
     "output_type": "execute_result"
    }
   ],
   "source": [
    "data.shape, response.shape"
   ]
  },
  {
   "cell_type": "markdown",
   "id": "edd823b5",
   "metadata": {},
   "source": [
    "We have n = 442 and p = 10. Next we will normalice our data and our responses\n"
   ]
  },
  {
   "cell_type": "code",
   "execution_count": 112,
   "id": "17be478e",
   "metadata": {},
   "outputs": [],
   "source": [
    "def normalize_data(data,responses):\n",
    "    y = responses - np.mean(responses)\n",
    "    X = data - np.mean(data, axis=0)\n",
    "    X = X / np.linalg.norm(X, axis=0)\n",
    "    return X, y"
   ]
  },
  {
   "cell_type": "code",
   "execution_count": null,
   "id": "807bae88",
   "metadata": {},
   "outputs": [],
   "source": [
    "X,y = normalize_data(data,response)"
   ]
  },
  {
   "cell_type": "markdown",
   "id": "47f971d1",
   "metadata": {},
   "source": [
    "We are going to define a bench mark with ```Sklearn```:"
   ]
  },
  {
   "cell_type": "code",
   "execution_count": 118,
   "id": "4b9d1c09",
   "metadata": {},
   "outputs": [],
   "source": [
    "def r_squared(X,y):\n",
    "    reg = LinearRegression().fit(X, y)\n",
    "    r2 = reg.score(X, y)\n",
    "    return r2\n",
    "\n",
    "def r2andmse(X,b,y):\n",
    "    predictions = np.dot(X, b)\n",
    "    ss_res = np.sum((predictions - y)**2)\n",
    "    ss_tot = np.sum((y - np.mean(y))**2)\n",
    "    r_squared = 1 - (ss_res / ss_tot)\n",
    "    mse = np.mean((y - predictions) ** 2)\n",
    "    return (r_squared, mse)\n"
   ]
  },
  {
   "cell_type": "markdown",
   "id": "20e9e089",
   "metadata": {},
   "source": [
    "And now we can star our experiments:"
   ]
  },
  {
   "cell_type": "code",
   "execution_count": 172,
   "id": "2a357b43",
   "metadata": {},
   "outputs": [
    {
     "ename": "ValueError",
     "evalue": "The delta_list parameter must be a list of bounded positive values.",
     "output_type": "error",
     "traceback": [
      "\u001b[1;31m---------------------------------------------------------------------------\u001b[0m",
      "\u001b[1;31mValueError\u001b[0m                                Traceback (most recent call last)",
      "Cell \u001b[1;32mIn[172], line 21\u001b[0m\n\u001b[0;32m     19\u001b[0m num_itr \u001b[38;5;241m=\u001b[39m \u001b[38;5;241m50000\u001b[39m\n\u001b[0;32m     20\u001b[0m deltalist \u001b[38;5;241m=\u001b[39m np\u001b[38;5;241m.\u001b[39mlinspace(\u001b[38;5;241m0.1\u001b[39m, \u001b[38;5;241m1\u001b[39m, num_itr)\n\u001b[1;32m---> 21\u001b[0m b_pathrfs \u001b[38;5;241m=\u001b[39m exp\u001b[38;5;241m.\u001b[39mPath_R_FS(numiter\u001b[38;5;241m=\u001b[39mnum_itr, epsilon\u001b[38;5;241m=\u001b[39m\u001b[38;5;241m0.01\u001b[39m, delta_list\u001b[38;5;241m=\u001b[39mdeltalist)\n\u001b[0;32m     22\u001b[0m bosting[\u001b[38;5;124m'\u001b[39m\u001b[38;5;124mPath-R-FS-Boost\u001b[39m\u001b[38;5;124m'\u001b[39m] \u001b[38;5;241m=\u001b[39m r2andmse(X, b_pathrfs, y)\n",
      "File \u001b[1;32mc:\\Users\\juann\\Convex-Clustering-Project\\Code\\boosting.py:117\u001b[0m, in \u001b[0;36mPath_R_FS\u001b[1;34m(self, numiter, epsilon, delta_list)\u001b[0m\n\u001b[0;32m    112\u001b[0m             b[j_k] \u001b[38;5;241m+\u001b[39m\u001b[38;5;241m=\u001b[39m epsilon \u001b[38;5;241m*\u001b[39m s\n\u001b[0;32m    114\u001b[0m     \u001b[38;5;28;01mreturn\u001b[39;00m b\n\u001b[1;32m--> 117\u001b[0m \u001b[38;5;28;01mdef\u001b[39;00m \u001b[38;5;21mPath_R_FS\u001b[39m(\u001b[38;5;28mself\u001b[39m, numiter\u001b[38;5;241m=\u001b[39m\u001b[38;5;241m100\u001b[39m, epsilon\u001b[38;5;241m=\u001b[39m\u001b[38;5;241m0.1\u001b[39m, delta_list\u001b[38;5;241m=\u001b[39m[\u001b[38;5;241m0.001\u001b[39m, \u001b[38;5;241m0.01\u001b[39m, \u001b[38;5;241m0.1\u001b[39m, \u001b[38;5;241m1\u001b[39m]):\n\u001b[0;32m    118\u001b[0m \u001b[38;5;250m    \u001b[39m\u001b[38;5;124;03m\"\"\"\u001b[39;00m\n\u001b[0;32m    119\u001b[0m \u001b[38;5;124;03m    R-FS boosting algorithm with regularization path for linear regression.\u001b[39;00m\n\u001b[0;32m    120\u001b[0m \u001b[38;5;124;03m    Parameters: \u001b[39;00m\n\u001b[1;32m   (...)\u001b[0m\n\u001b[0;32m    127\u001b[0m \u001b[38;5;124;03m        b: Regression coefficient vector of size (p,).\u001b[39;00m\n\u001b[0;32m    128\u001b[0m \u001b[38;5;124;03m    \"\"\"\u001b[39;00m\n\u001b[0;32m    129\u001b[0m     \u001b[38;5;28;01mif\u001b[39;00m \u001b[38;5;129;01mnot\u001b[39;00m \u001b[38;5;28misinstance\u001b[39m(delta_list, \u001b[38;5;28mlist\u001b[39m):\n",
      "\u001b[1;31mValueError\u001b[0m: The delta_list parameter must be a list of bounded positive values."
     ]
    }
   ],
   "source": [
    "bosting = {}\n",
    "sklearn_r2 = r_squared(X, y)\n",
    "\n",
    "Boosting_algorithms = ['LS-Boost', 'FS-Boost', \n",
    "                       'R-FS-Boost', 'Path-R-FS-Boost']\n",
    "\n",
    "exp = Boosting(X, y)\n",
    "\n",
    "\n",
    "b_ls = exp.LS_Boost(numiter=1000, epsilon=0.01)\n",
    "bosting['LS-Boost'] = r2andmse(X, b_ls, y)\n",
    "\n",
    "b_fs = exp.FS_Boost(numiter=10000, epsilon=0.25)\n",
    "bosting['FS-Boost'] = r2andmse(X, b_fs, y)\n",
    "\n",
    "b_rfs = exp.R_FS(numiter=10000, epsilon=0.25, delta=10079)\n",
    "bosting['R-FS-Boost'] = r2andmse(X, b_rfs, y)\n",
    "\n",
    "num_itr = 50000\n",
    "deltalist = np.linspace(0.1, 1, num_itr)\n",
    "b_pathrfs = exp.Path_R_FS(numiter=num_itr, epsilon=0.01, delta_list=deltalist)\n",
    "bosting['Path-R-FS-Boost'] = r2andmse(X, b_pathrfs, y)"
   ]
  },
  {
   "cell_type": "code",
   "execution_count": 170,
   "id": "0e379b89",
   "metadata": {},
   "outputs": [
    {
     "data": {
      "text/plain": [
       "(1.9811682544279563e-05, 5929.767415913281)"
      ]
     },
     "execution_count": 170,
     "metadata": {},
     "output_type": "execute_result"
    }
   ],
   "source": [
    "bosting['Path-R-FS-Boost']"
   ]
  }
 ],
 "metadata": {
  "kernelspec": {
   "display_name": "base",
   "language": "python",
   "name": "python3"
  },
  "language_info": {
   "codemirror_mode": {
    "name": "ipython",
    "version": 3
   },
   "file_extension": ".py",
   "mimetype": "text/x-python",
   "name": "python",
   "nbconvert_exporter": "python",
   "pygments_lexer": "ipython3",
   "version": "3.11.7"
  }
 },
 "nbformat": 4,
 "nbformat_minor": 5
}

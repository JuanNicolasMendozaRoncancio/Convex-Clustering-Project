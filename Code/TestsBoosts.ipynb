{
 "cells": [
  {
   "cell_type": "markdown",
   "id": "4c9ab593",
   "metadata": {},
   "source": [
    "# Test notebook for boosting\n",
    "\n",
    "The goal of this notebook is to test the algorithms on ```boosting.py```. We will teste them on four datasets:\n",
    "\n",
    "- Diabetes dataset\n",
    "- Prostate Cancer dataset\n",
    "- California Housing Dataset\n",
    "- Leukemia Dataset\n",
    "\n"
   ]
  },
  {
   "cell_type": "markdown",
   "id": "8b5ad224",
   "metadata": {},
   "source": [
    "## Diabetes Dataset\n",
    "\n",
    "We can import this dataset:"
   ]
  },
  {
   "cell_type": "code",
   "execution_count": 31,
   "id": "aff439af",
   "metadata": {},
   "outputs": [],
   "source": [
    "from sklearn.datasets import load_diabetes\n",
    "import numpy as np\n",
    "import boosting\n",
    "\n",
    "data = load_diabetes().data\n",
    "response = load_diabetes().target"
   ]
  },
  {
   "cell_type": "code",
   "execution_count": 6,
   "id": "6cd4375d",
   "metadata": {},
   "outputs": [
    {
     "data": {
      "text/plain": [
       "((442, 10), (442,))"
      ]
     },
     "execution_count": 6,
     "metadata": {},
     "output_type": "execute_result"
    }
   ],
   "source": [
    "data.shape, response.shape"
   ]
  },
  {
   "cell_type": "code",
   "execution_count": 10,
   "id": "412c3087",
   "metadata": {},
   "outputs": [
    {
     "data": {
      "text/plain": [
       "array([ 0.03807591,  0.05068012,  0.06169621,  0.02187239, -0.0442235 ,\n",
       "       -0.03482076, -0.04340085, -0.00259226,  0.01990749, -0.01764613])"
      ]
     },
     "execution_count": 10,
     "metadata": {},
     "output_type": "execute_result"
    }
   ],
   "source": [
    "data[0]"
   ]
  },
  {
   "cell_type": "markdown",
   "id": "edd823b5",
   "metadata": {},
   "source": [
    "We have n = 442 and p = 10. Next we will normalice our data and our responses\n"
   ]
  },
  {
   "cell_type": "code",
   "execution_count": 28,
   "id": "17be478e",
   "metadata": {},
   "outputs": [],
   "source": [
    "def normalize_data(data,responses):\n",
    "    y = responses - np.mean(responses)\n",
    "    X = data - np.mean(data, axis=0)\n",
    "    X = X / np.linalg.norm(X, axis=0)\n",
    "    return X, y"
   ]
  },
  {
   "cell_type": "code",
   "execution_count": 29,
   "id": "807bae88",
   "metadata": {},
   "outputs": [],
   "source": [
    "X,y = normalize_data(data,response)"
   ]
  },
  {
   "cell_type": "markdown",
   "id": "47f971d1",
   "metadata": {},
   "source": [
    "Know we are ready to apply our boosting algorithsm"
   ]
  },
  {
   "cell_type": "code",
   "execution_count": null,
   "id": "2a357b43",
   "metadata": {},
   "outputs": [],
   "source": [
    "bossting = {}\n",
    "\n",
    "\n",
    "\n"
   ]
  }
 ],
 "metadata": {
  "kernelspec": {
   "display_name": "base",
   "language": "python",
   "name": "python3"
  },
  "language_info": {
   "codemirror_mode": {
    "name": "ipython",
    "version": 3
   },
   "file_extension": ".py",
   "mimetype": "text/x-python",
   "name": "python",
   "nbconvert_exporter": "python",
   "pygments_lexer": "ipython3",
   "version": "3.11.7"
  }
 },
 "nbformat": 4,
 "nbformat_minor": 5
}

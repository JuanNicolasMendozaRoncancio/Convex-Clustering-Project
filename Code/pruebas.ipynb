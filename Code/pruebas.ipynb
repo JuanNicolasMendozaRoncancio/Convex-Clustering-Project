{
 "cells": [
  {
   "cell_type": "code",
   "execution_count": 1,
   "id": "18169328",
   "metadata": {},
   "outputs": [],
   "source": [
    "import numpy as np\n",
    "import pandas as pd\n",
    "import matplotlib.pyplot as plt\n",
    "from sklearn.linear_model import LinearRegression\n",
    "from boosting import Boosting"
   ]
  },
  {
   "cell_type": "code",
   "execution_count": 2,
   "id": "a13aa6c8",
   "metadata": {},
   "outputs": [],
   "source": [
    "#Recta que queremos encontrar\n",
    "def plane(X,Y,a,b,c):\n",
    "    return a * X + b * Y + c\n",
    "\n",
    "#Agregar ruido\n",
    "def noise(Z, scale=0.5):\n",
    "    noise = np.random.normal(0, scale, Z.shape)\n",
    "    return Z + noise\n",
    "\n",
    "def normalize(data,responses):\n",
    "    y = responses - responses.mean()\n",
    "\n",
    "    X = data - data.mean()\n",
    "\n",
    "    X = X/np.linalg.norm(X, axis=0)\n",
    "    return X, y"
   ]
  },
  {
   "cell_type": "code",
   "execution_count": 123,
   "id": "8f19c154",
   "metadata": {},
   "outputs": [],
   "source": [
    "X = np.linspace(0, 10, 100).reshape(-1, 1)\n",
    "Y = 2 * X + np.random.normal(0, 0.1, size=X.shape)\n",
    "Z = plane(X, Y, 0, 7, 9)\n",
    "Z_noisy = noise(Z)"
   ]
  },
  {
   "cell_type": "code",
   "execution_count": 124,
   "id": "d7f9c25e",
   "metadata": {},
   "outputs": [],
   "source": [
    "df_data = pd.DataFrame({'X': X.flatten(), 'Y': Y.flatten()})\n",
    "df_results = pd.DataFrame({'Z_noisy': Z_noisy.flatten()})"
   ]
  },
  {
   "cell_type": "code",
   "execution_count": 125,
   "id": "bdc65568",
   "metadata": {},
   "outputs": [],
   "source": [
    "X, y = normalize(df_data, df_results['Z_noisy'])\n",
    "model = LinearRegression().fit(X, y)"
   ]
  },
  {
   "cell_type": "code",
   "execution_count": 126,
   "id": "451dfe30",
   "metadata": {},
   "outputs": [
    {
     "name": "stdout",
     "output_type": "stream",
     "text": [
      "Coeficientes del modelo:\n",
      "Pendiente: [-13.50418691 423.55642668]\n",
      "Suma de los coeficientes: 410.05223976482273\n",
      "Interseccion: -1.0953521127373108e-14\n",
      "Score R^2: 0.9998889196996352\n"
     ]
    }
   ],
   "source": [
    "print(\"Coeficientes del modelo:\")\n",
    "print(f\"Pendiente: {model.coef_}\\nSuma de los coeficientes: {np.sum(model.coef_)}\")\n",
    "print(f\"Interseccion: {model.intercept_}\")\n",
    "print(f\"Score R^2: {model.score(X, y)}\")"
   ]
  },
  {
   "cell_type": "code",
   "execution_count": 158,
   "id": "5543ff65",
   "metadata": {},
   "outputs": [
    {
     "name": "stdout",
     "output_type": "stream",
     "text": [
      "\n",
      "Coeficientes del modelo LS-Boost:\n",
      "Pendiente: [-13.50380676 423.55604648]\n"
     ]
    }
   ],
   "source": [
    "boosting_model = Boosting(X.values, y.values)\n",
    "\n",
    "b_ls = boosting_model.LS_Boost(numiter=100000, epsilon=1)\n",
    "\n",
    "print(\"\\nCoeficientes del modelo LS-Boost:\")\n",
    "print(\"Pendiente:\", b_ls)"
   ]
  },
  {
   "cell_type": "markdown",
   "id": "457ab5fe",
   "metadata": {},
   "source": [
    "Revision del algoritmo:"
   ]
  },
  {
   "cell_type": "code",
   "execution_count": 90,
   "id": "97e3768a",
   "metadata": {},
   "outputs": [],
   "source": [
    "def LS_Boostaca(data,response, numiter=100, epsilon=0.1):\n",
    "        \"\"\"\n",
    "        LS-Boost algorithm for linear regression boosting.\n",
    "        Parameters:\n",
    "            X: Data matrix of size (n, p).\n",
    "            y: Response vector of size (n,).\n",
    "            numiter: Number of algorithm iterations, default 100.\n",
    "            epsilon: Learning rate, default 0.1.\n",
    "        Returns:\n",
    "            b: Regression coefficient vector of size (p,).\n",
    "        \"\"\"\n",
    "        if epsilon <= 0:\n",
    "            raise ValueError(\"The epsilon parameter must be positive.\")\n",
    "        \n",
    "        else:\n",
    "            r, b = response.copy(), np.zeros(data.shape[1])\n",
    "\n",
    "            print(f\"Starting LS-Boost algorithm with residuals {r} and coefficients {b}\")\n",
    "\n",
    "            #diccionarios para guardar la evolucion\n",
    "            j = []\n",
    "            u_m1 = {f\"iteracion {i}\":[] for i in range(numiter+1)}\n",
    "            res1 = {f\"iteracion {i}\":[] for i in range(numiter+1)}\n",
    "\n",
    "            for it in range(numiter+1):\n",
    "\n",
    "                u_m = [np.dot(data[:, m], r) \n",
    "                       for m in range(data.shape[1])]\n",
    "                u_m1[f\"iteracion {it}\"] = u_m.copy()\n",
    "\n",
    "                res = [np.sum((r - u_m[m] * data[:, m])**2) \n",
    "                       for m in range(data.shape[1])]\n",
    "                res1[f\"iteracion {it}\"] = res.copy()\n",
    "                \n",
    "                j_k = np.argmin(res)\n",
    "                j.append(j_k)\n",
    "\n",
    "                r -= epsilon * data[:, j_k] * u_m[j_k]\n",
    "                b[j_k] += epsilon * u_m[j_k]\n",
    "\n",
    "        return b, j, u_m1, res1"
   ]
  },
  {
   "cell_type": "code",
   "execution_count": 99,
   "id": "ab015ff7",
   "metadata": {},
   "outputs": [
    {
     "name": "stdout",
     "output_type": "stream",
     "text": [
      "Starting LS-Boost algorithm with residuals [-61.69537827 -60.83819368 -60.88495929 -57.57799836 -58.57748507\n",
      " -56.26847269 -54.93135656 -53.17909146 -53.08640884 -50.45966634\n",
      " -49.34511274 -48.56222387 -48.86968515 -46.74987644 -44.32231624\n",
      " -46.32051695 -42.30405338 -41.58468295 -38.7667013  -37.61663682\n",
      " -37.80720934 -35.11961631 -35.23338255 -34.71061094 -32.10416094\n",
      " -31.32704388 -28.95067725 -29.19046379 -27.23972283 -24.68325977\n",
      " -25.44327341 -24.63417148 -21.31777033 -21.32237584 -18.43136882\n",
      " -17.56569988 -16.62842046 -15.42735709 -14.06618822 -13.13531018\n",
      " -11.26467499 -11.15742308  -7.61264619  -7.45377053  -6.816518\n",
      "  -6.94442322  -4.87396378  -3.83654139  -1.6144917   -0.75803903\n",
      "   0.74149673   1.70156942   3.93176322   4.45141556   5.4833508\n",
      "   5.61623739   8.39014211   8.45055157   9.13473557  11.59777137\n",
      "  14.30731725  14.23480897  16.85971276  17.18391887  17.34174877\n",
      "  19.02085946  21.93869317  21.38086377  23.48113866  25.60348584\n",
      "  26.18086117  27.19588305  28.11723806  29.66637041  29.98281309\n",
      "  32.59667964  33.94002791  33.38555653  35.6489652   37.42634713\n",
      "  40.66113848  39.88927305  41.32471518  42.11250852  45.32376291\n",
      "  45.3054839   45.58894696  46.76457275  48.33460943  48.2881792\n",
      "  51.47048485  52.09086824  54.65571487  54.67867699  56.65254691\n",
      "  57.00529042  58.82334141  59.94037667  60.93902195  63.7695555 ] and coefficients [0. 0.]\n"
     ]
    },
    {
     "data": {
      "image/png": "[encoded data removed]",
      "text/plain": [
       "<Figure size 640x480 with 1 Axes>"
      ]
     },
     "metadata": {},
     "output_type": "display_data"
    },
    {
     "data": {
      "text/plain": [
       "array([ 0.        , 38.20275839])"
      ]
     },
     "execution_count": 99,
     "metadata": {},
     "output_type": "execute_result"
    }
   ],
   "source": [
    "b,j, u_m1, res1 = LS_Boostaca(X.values, y.values, numiter=10, epsilon=0.01)\n",
    "\n",
    "plt.plot(range(len(j)), j)\n",
    "plt.xlabel('Iteration')\n",
    "plt.ylabel('Selected Feature Index')   \n",
    "plt.show()\n",
    "b"
   ]
  },
  {
   "cell_type": "code",
   "execution_count": null,
   "id": "8b2dfd63",
   "metadata": {},
   "outputs": [],
   "source": [
    "u_m11 =[list(u_m1.values())[i][0] for i in range(len(u_m1))]\n",
    "plt.plot(range(len(u_m11)), u_m11)\n",
    "plt.xlabel('Iteration')\n",
    "plt.ylabel('u_m1 Values')\n",
    "plt.show()"
   ]
  },
  {
   "cell_type": "code",
   "execution_count": null,
   "id": "e4498266",
   "metadata": {},
   "outputs": [],
   "source": [
    "u_m12 =[list(u_m1.values())[i][1] for i in range(len(u_m1))]\n",
    "plt.plot(range(len(u_m12)), u_m12)\n",
    "plt.xlabel('Iteration') \n",
    "plt.show()"
   ]
  },
  {
   "cell_type": "code",
   "execution_count": null,
   "id": "4479a2b3",
   "metadata": {},
   "outputs": [],
   "source": [
    "u_m11 =[list(res1.values())[i][0] for i in range(len(res1))]\n",
    "plt.plot(range(len(u_m11)), u_m11)\n",
    "plt.xlabel('Iteration')\n",
    "plt.ylabel('u_m1 Values')\n",
    "plt.show()\n",
    "\n",
    "u_m12 =[list(res1.values())[i][1] for i in range(len(res1))]\n",
    "plt.plot(range(len(u_m12)), u_m12)\n",
    "plt.xlabel('Iteration')\n",
    "plt.ylabel('u_m2 Values')\n",
    "plt.show()"
   ]
  }
 ],
 "metadata": {
  "kernelspec": {
   "display_name": "base",
   "language": "python",
   "name": "python3"
  },
  "language_info": {
   "codemirror_mode": {
    "name": "ipython",
    "version": 3
   },
   "file_extension": ".py",
   "mimetype": "text/x-python",
   "name": "python",
   "nbconvert_exporter": "python",
   "pygments_lexer": "ipython3",
   "version": "3.11.7"
  }
 },
 "nbformat": 4,
 "nbformat_minor": 5
}
